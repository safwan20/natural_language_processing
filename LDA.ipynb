{
  "nbformat": 4,
  "nbformat_minor": 0,
  "metadata": {
    "colab": {
      "name": "LDA.ipynb",
      "provenance": [],
      "collapsed_sections": [],
      "toc_visible": true
    },
    "kernelspec": {
      "name": "python3",
      "display_name": "Python 3"
    }
  },
  "cells": [
    {
      "cell_type": "markdown",
      "metadata": {
        "id": "0c7qKYBO6D9K",
        "colab_type": "text"
      },
      "source": [
        "#IMPORT DATASET"
      ]
    },
    {
      "cell_type": "code",
      "metadata": {
        "id": "ImOKZ6Ov6IOg",
        "colab_type": "code",
        "colab": {}
      },
      "source": [
        "import pandas"
      ],
      "execution_count": 0,
      "outputs": []
    },
    {
      "cell_type": "markdown",
      "metadata": {
        "id": "kB6gSAia6L57",
        "colab_type": "text"
      },
      "source": [
        "#READ THE DATA"
      ]
    },
    {
      "cell_type": "code",
      "metadata": {
        "id": "z6Qy4tQmw7Nv",
        "colab_type": "code",
        "colab": {}
      },
      "source": [
        "data = pandas.read_csv('news.csv')"
      ],
      "execution_count": 0,
      "outputs": []
    },
    {
      "cell_type": "markdown",
      "metadata": {
        "id": "NNCVfSF86XJm",
        "colab_type": "text"
      },
      "source": [
        "#CHECK THE NULL VALUES AND REMOVE IT IF ANY"
      ]
    },
    {
      "cell_type": "code",
      "metadata": {
        "id": "oroEWY7MoxpF",
        "colab_type": "code",
        "outputId": "b42e2f5d-b22d-462d-8b00-4e421f557ab7",
        "colab": {
          "base_uri": "https://localhost:8080/",
          "height": 34
        }
      },
      "source": [
        "data.isnull().values.any()"
      ],
      "execution_count": 3,
      "outputs": [
        {
          "output_type": "execute_result",
          "data": {
            "text/plain": [
              "False"
            ]
          },
          "metadata": {
            "tags": []
          },
          "execution_count": 3
        }
      ]
    },
    {
      "cell_type": "code",
      "metadata": {
        "id": "EQ-c69_LsJjM",
        "colab_type": "code",
        "colab": {}
      },
      "source": [
        "nan_rows = data[data['body'].isnull()]"
      ],
      "execution_count": 0,
      "outputs": []
    },
    {
      "cell_type": "code",
      "metadata": {
        "id": "L0hOqTeguMhG",
        "colab_type": "code",
        "colab": {}
      },
      "source": [
        ""
      ],
      "execution_count": 0,
      "outputs": []
    },
    {
      "cell_type": "markdown",
      "metadata": {
        "id": "X0tcGxGe6dru",
        "colab_type": "text"
      },
      "source": [
        "#USE COUNT VECTORIZER FOR DATA PRE-PROCESSING YOU CAN USE TDF-ID VECTORIZER BASES ON YOUR NEED"
      ]
    },
    {
      "cell_type": "code",
      "metadata": {
        "id": "h8uC73oEt3VO",
        "colab_type": "code",
        "colab": {}
      },
      "source": [
        "from sklearn.feature_extraction.text import CountVectorizer\n",
        "cv  = CountVectorizer(stop_words='english')\n",
        "dtm = cv.fit_transform(data['body'])"
      ],
      "execution_count": 0,
      "outputs": []
    },
    {
      "cell_type": "code",
      "metadata": {
        "id": "PvtT3ofdw-bO",
        "colab_type": "code",
        "outputId": "24780ef8-5de2-445d-a337-01c5d37a961c",
        "colab": {
          "base_uri": "https://localhost:8080/",
          "height": 51
        }
      },
      "source": [
        "dtm"
      ],
      "execution_count": 6,
      "outputs": [
        {
          "output_type": "execute_result",
          "data": {
            "text/plain": [
              "<389x13263 sparse matrix of type '<class 'numpy.int64'>'\n",
              "\twith 66083 stored elements in Compressed Sparse Row format>"
            ]
          },
          "metadata": {
            "tags": []
          },
          "execution_count": 6
        }
      ]
    },
    {
      "cell_type": "markdown",
      "metadata": {
        "id": "Rt9dsCUQ6uF3",
        "colab_type": "text"
      },
      "source": [
        "#USE LDA FOR TOPIC MODELLING"
      ]
    },
    {
      "cell_type": "code",
      "metadata": {
        "id": "5d3UICyao3NV",
        "colab_type": "code",
        "colab": {}
      },
      "source": [
        "from sklearn.decomposition import LatentDirichletAllocation"
      ],
      "execution_count": 0,
      "outputs": []
    },
    {
      "cell_type": "code",
      "metadata": {
        "id": "KtX1GVcEpMXH",
        "colab_type": "code",
        "colab": {}
      },
      "source": [
        "LDA = LatentDirichletAllocation(n_components=7)"
      ],
      "execution_count": 0,
      "outputs": []
    },
    {
      "cell_type": "code",
      "metadata": {
        "id": "eWJHSmBkplr6",
        "colab_type": "code",
        "outputId": "2835ddc6-9525-455b-d41d-5033751719af",
        "colab": {
          "base_uri": "https://localhost:8080/",
          "height": 153
        }
      },
      "source": [
        "LDA.fit(dtm)"
      ],
      "execution_count": 9,
      "outputs": [
        {
          "output_type": "execute_result",
          "data": {
            "text/plain": [
              "LatentDirichletAllocation(batch_size=128, doc_topic_prior=None,\n",
              "                          evaluate_every=-1, learning_decay=0.7,\n",
              "                          learning_method='batch', learning_offset=10.0,\n",
              "                          max_doc_update_iter=100, max_iter=10,\n",
              "                          mean_change_tol=0.001, n_components=7, n_jobs=None,\n",
              "                          perp_tol=0.1, random_state=None,\n",
              "                          topic_word_prior=None, total_samples=1000000.0,\n",
              "                          verbose=0)"
            ]
          },
          "metadata": {
            "tags": []
          },
          "execution_count": 9
        }
      ]
    },
    {
      "cell_type": "markdown",
      "metadata": {
        "id": "cLVt3zZn6zHP",
        "colab_type": "text"
      },
      "source": [
        "#LETS PLAY WITH CV AND LDA TO KNOW MORE ABOUT THE DATA"
      ]
    },
    {
      "cell_type": "code",
      "metadata": {
        "id": "NjhcpraApn00",
        "colab_type": "code",
        "colab": {
          "base_uri": "https://localhost:8080/",
          "height": 34
        },
        "outputId": "dfcfda66-546e-42f9-9279-98695bcd435a"
      },
      "source": [
        "len(cv.get_feature_names())\n",
        "type(cv.get_feature_names())"
      ],
      "execution_count": 10,
      "outputs": [
        {
          "output_type": "execute_result",
          "data": {
            "text/plain": [
              "list"
            ]
          },
          "metadata": {
            "tags": []
          },
          "execution_count": 10
        }
      ]
    },
    {
      "cell_type": "code",
      "metadata": {
        "id": "TSMxFdElp_e1",
        "colab_type": "code",
        "colab": {
          "base_uri": "https://localhost:8080/",
          "height": 1000
        },
        "outputId": "aa46883f-0b5f-4595-8064-75b389dfe9b1"
      },
      "source": [
        "cv.get_feature_names()"
      ],
      "execution_count": 11,
      "outputs": [
        {
          "output_type": "execute_result",
          "data": {
            "text/plain": [
              "['00',\n",
              " '000',\n",
              " '004',\n",
              " '0059',\n",
              " '008',\n",
              " '01',\n",
              " '012',\n",
              " '013bipffpb',\n",
              " '014',\n",
              " '019',\n",
              " '02',\n",
              " '0202',\n",
              " '0212',\n",
              " '03',\n",
              " '036',\n",
              " '045',\n",
              " '05',\n",
              " '06',\n",
              " '060',\n",
              " '07',\n",
              " '076',\n",
              " '08',\n",
              " '0866',\n",
              " '089',\n",
              " '09',\n",
              " '0pl6xroabk',\n",
              " '10',\n",
              " '100',\n",
              " '1000',\n",
              " '1000xm3',\n",
              " '100gw',\n",
              " '100th',\n",
              " '104',\n",
              " '106',\n",
              " '107',\n",
              " '1073',\n",
              " '1080p',\n",
              " '1089',\n",
              " '109',\n",
              " '10pm',\n",
              " '11',\n",
              " '110',\n",
              " '110ps',\n",
              " '111',\n",
              " '112',\n",
              " '113',\n",
              " '1131',\n",
              " '114',\n",
              " '115',\n",
              " '115baa',\n",
              " '115bbda',\n",
              " '1165',\n",
              " '118',\n",
              " '119',\n",
              " '11th',\n",
              " '12',\n",
              " '120',\n",
              " '121',\n",
              " '1212',\n",
              " '122',\n",
              " '123',\n",
              " '1235163564865802240',\n",
              " '125',\n",
              " '127',\n",
              " '128',\n",
              " '128gb',\n",
              " '129',\n",
              " '12gb',\n",
              " '12mp',\n",
              " '12pm',\n",
              " '12th',\n",
              " '13',\n",
              " '130',\n",
              " '1300',\n",
              " '135',\n",
              " '136',\n",
              " '139',\n",
              " '13mp',\n",
              " '14',\n",
              " '140',\n",
              " '141',\n",
              " '142',\n",
              " '1428',\n",
              " '143',\n",
              " '1430',\n",
              " '1440p',\n",
              " '147',\n",
              " '149',\n",
              " '15',\n",
              " '150',\n",
              " '1500s',\n",
              " '151',\n",
              " '152',\n",
              " '153',\n",
              " '153a',\n",
              " '1545',\n",
              " '155',\n",
              " '156',\n",
              " '15th',\n",
              " '15w',\n",
              " '16',\n",
              " '160',\n",
              " '161',\n",
              " '166',\n",
              " '167',\n",
              " '1693',\n",
              " '16mp',\n",
              " '16th',\n",
              " '17',\n",
              " '1700',\n",
              " '171',\n",
              " '173nm',\n",
              " '175',\n",
              " '175gw',\n",
              " '1760s',\n",
              " '179',\n",
              " '18',\n",
              " '180',\n",
              " '183',\n",
              " '1848',\n",
              " '1853',\n",
              " '188',\n",
              " '189',\n",
              " '19',\n",
              " '1905',\n",
              " '191',\n",
              " '1920s',\n",
              " '1923',\n",
              " '1927',\n",
              " '1930',\n",
              " '194',\n",
              " '1940s',\n",
              " '1949',\n",
              " '194j',\n",
              " '195',\n",
              " '1952',\n",
              " '1959',\n",
              " '1960s',\n",
              " '1961',\n",
              " '1968',\n",
              " '197',\n",
              " '19701',\n",
              " '1970s',\n",
              " '1972',\n",
              " '198',\n",
              " '1980s',\n",
              " '1988',\n",
              " '1989',\n",
              " '199',\n",
              " '1990',\n",
              " '1990s',\n",
              " '1994',\n",
              " '1997',\n",
              " '1998',\n",
              " '1999',\n",
              " '1agra',\n",
              " '1december',\n",
              " '1st',\n",
              " '1zzp5rvwng',\n",
              " '20',\n",
              " '200',\n",
              " '2000',\n",
              " '2000s',\n",
              " '2001',\n",
              " '2003',\n",
              " '2004',\n",
              " '2005',\n",
              " '2006',\n",
              " '2007',\n",
              " '2008',\n",
              " '2009',\n",
              " '201',\n",
              " '2010',\n",
              " '2011',\n",
              " '2012',\n",
              " '2013',\n",
              " '2014',\n",
              " '2015',\n",
              " '2016',\n",
              " '2017',\n",
              " '2018',\n",
              " '2019',\n",
              " '2020',\n",
              " '2020s',\n",
              " '2021',\n",
              " '2022',\n",
              " '2023',\n",
              " '2024',\n",
              " '2029',\n",
              " '204',\n",
              " '206',\n",
              " '20950',\n",
              " '20mp',\n",
              " '20s',\n",
              " '20x',\n",
              " '21',\n",
              " '211',\n",
              " '212',\n",
              " '214',\n",
              " '215',\n",
              " '216',\n",
              " '217',\n",
              " '21st',\n",
              " '22',\n",
              " '223',\n",
              " '224',\n",
              " '226',\n",
              " '22700',\n",
              " '228',\n",
              " '23',\n",
              " '230',\n",
              " '235',\n",
              " '238',\n",
              " '23bmi',\n",
              " '24',\n",
              " '240',\n",
              " '241',\n",
              " '2410978',\n",
              " '242',\n",
              " '245',\n",
              " '249',\n",
              " '24seven',\n",
              " '24x7',\n",
              " '25',\n",
              " '250',\n",
              " '2500',\n",
              " '25000',\n",
              " '254',\n",
              " '256',\n",
              " '256gb',\n",
              " '25th',\n",
              " '26',\n",
              " '260',\n",
              " '268',\n",
              " '27',\n",
              " '270',\n",
              " '2700',\n",
              " '270hz',\n",
              " '276',\n",
              " '28',\n",
              " '284',\n",
              " '285',\n",
              " '286',\n",
              " '287',\n",
              " '288',\n",
              " '28th',\n",
              " '29',\n",
              " '292',\n",
              " '293',\n",
              " '295',\n",
              " '295a',\n",
              " '299',\n",
              " '29th',\n",
              " '2g',\n",
              " '2mp',\n",
              " '2nd',\n",
              " '2w7qaejeeb',\n",
              " '30',\n",
              " '300',\n",
              " '3000',\n",
              " '30000',\n",
              " '303',\n",
              " '305',\n",
              " '307',\n",
              " '30w',\n",
              " '31',\n",
              " '3100',\n",
              " '3110',\n",
              " '314',\n",
              " '32',\n",
              " '320',\n",
              " '3200',\n",
              " '324',\n",
              " '328',\n",
              " '33',\n",
              " '330',\n",
              " '334',\n",
              " '335',\n",
              " '336',\n",
              " '3360',\n",
              " '34',\n",
              " '340',\n",
              " '341',\n",
              " '343',\n",
              " '345',\n",
              " '346',\n",
              " '347',\n",
              " '35',\n",
              " '350',\n",
              " '3500',\n",
              " '352',\n",
              " '3542',\n",
              " '355',\n",
              " '35b',\n",
              " '36',\n",
              " '360',\n",
              " '364',\n",
              " '37',\n",
              " '370',\n",
              " '372',\n",
              " '373',\n",
              " '37a',\n",
              " '38',\n",
              " '380',\n",
              " '389',\n",
              " '39',\n",
              " '3ar4kxv',\n",
              " '3rd',\n",
              " '3xou0idcd3',\n",
              " '40',\n",
              " '400',\n",
              " '402',\n",
              " '404',\n",
              " '405',\n",
              " '409',\n",
              " '41',\n",
              " '410',\n",
              " '411',\n",
              " '414',\n",
              " '415',\n",
              " '42',\n",
              " '420',\n",
              " '426',\n",
              " '427',\n",
              " '428',\n",
              " '43',\n",
              " '430',\n",
              " '435',\n",
              " '436',\n",
              " '4396',\n",
              " '44',\n",
              " '440',\n",
              " '44mp',\n",
              " '45',\n",
              " '450',\n",
              " '459',\n",
              " '46',\n",
              " '460',\n",
              " '46200',\n",
              " '467',\n",
              " '46700',\n",
              " '47',\n",
              " '479',\n",
              " '48',\n",
              " '483',\n",
              " '488',\n",
              " '489',\n",
              " '49',\n",
              " '490',\n",
              " '494',\n",
              " '498',\n",
              " '499',\n",
              " '4g',\n",
              " '4gb',\n",
              " '4h',\n",
              " '4th',\n",
              " '4x4',\n",
              " '50',\n",
              " '500',\n",
              " '5000',\n",
              " '50000',\n",
              " '5000mah',\n",
              " '500km',\n",
              " '50gb',\n",
              " '50s',\n",
              " '51',\n",
              " '51eiaij2ow',\n",
              " '52',\n",
              " '529',\n",
              " '53',\n",
              " '533',\n",
              " '538',\n",
              " '53rd',\n",
              " '54',\n",
              " '540',\n",
              " '544',\n",
              " '546',\n",
              " '55',\n",
              " '56',\n",
              " '560',\n",
              " '57',\n",
              " '571',\n",
              " '572',\n",
              " '58',\n",
              " '5800',\n",
              " '582',\n",
              " '585',\n",
              " '586',\n",
              " '589',\n",
              " '59',\n",
              " '591',\n",
              " '599',\n",
              " '5etfw',\n",
              " '5g',\n",
              " '5gtesting',\n",
              " '5kg',\n",
              " '5mm',\n",
              " '5mp',\n",
              " '5s',\n",
              " '5th',\n",
              " '5x27',\n",
              " '60',\n",
              " '600',\n",
              " '6000mah',\n",
              " '600th',\n",
              " '608',\n",
              " '61',\n",
              " '62',\n",
              " '621',\n",
              " '623',\n",
              " '625',\n",
              " '63',\n",
              " '634',\n",
              " '637',\n",
              " '64',\n",
              " '640',\n",
              " '642',\n",
              " '643',\n",
              " '64gb',\n",
              " '64mp',\n",
              " '65',\n",
              " '650',\n",
              " '653',\n",
              " '65w',\n",
              " '66',\n",
              " '660',\n",
              " '67',\n",
              " '670',\n",
              " '674',\n",
              " '68',\n",
              " '69',\n",
              " '693',\n",
              " '699',\n",
              " '6aly95mtur',\n",
              " '6gb',\n",
              " '6th',\n",
              " '70',\n",
              " '700',\n",
              " '71',\n",
              " '714',\n",
              " '715',\n",
              " '719',\n",
              " '72',\n",
              " '720mah',\n",
              " '723',\n",
              " '727',\n",
              " '73',\n",
              " '736',\n",
              " '737',\n",
              " '74',\n",
              " '740',\n",
              " '74nupoxlt6',\n",
              " '75',\n",
              " '750',\n",
              " '755',\n",
              " '75t',\n",
              " '76',\n",
              " '760',\n",
              " '766',\n",
              " '769',\n",
              " '77',\n",
              " '772',\n",
              " '774',\n",
              " '778',\n",
              " '78',\n",
              " '783',\n",
              " '787',\n",
              " '787s',\n",
              " '788',\n",
              " '79',\n",
              " '792',\n",
              " '798',\n",
              " '7th',\n",
              " '80',\n",
              " '800',\n",
              " '8000',\n",
              " '806',\n",
              " '80m',\n",
              " '81',\n",
              " '8110',\n",
              " '812',\n",
              " '818',\n",
              " '82',\n",
              " '821',\n",
              " '822',\n",
              " '83',\n",
              " '837',\n",
              " '84',\n",
              " '848',\n",
              " '85',\n",
              " '850',\n",
              " '851',\n",
              " '86',\n",
              " '861',\n",
              " '862',\n",
              " '865',\n",
              " '867',\n",
              " '87',\n",
              " '872',\n",
              " '873',\n",
              " '88',\n",
              " '880',\n",
              " '8800',\n",
              " '882',\n",
              " '8887',\n",
              " '89',\n",
              " '893',\n",
              " '894',\n",
              " '896',\n",
              " '8bljpj3xtq',\n",
              " '8gb',\n",
              " '8mp',\n",
              " '90',\n",
              " '900',\n",
              " '905',\n",
              " '908',\n",
              " '909',\n",
              " '90hz',\n",
              " '91',\n",
              " '912',\n",
              " '917z4oiygc',\n",
              " '92',\n",
              " '920',\n",
              " '92000',\n",
              " '922',\n",
              " '93',\n",
              " '94',\n",
              " '9429',\n",
              " '943',\n",
              " '946',\n",
              " '95',\n",
              " '950',\n",
              " '951',\n",
              " '953',\n",
              " '9553',\n",
              " '95masks',\n",
              " '96',\n",
              " '9611',\n",
              " '97',\n",
              " '98',\n",
              " '980',\n",
              " '981',\n",
              " '989',\n",
              " '99',\n",
              " '990',\n",
              " '993',\n",
              " '999',\n",
              " '9b3dghwtaa',\n",
              " '9gykf6bfm5',\n",
              " '9m',\n",
              " '9mfy20',\n",
              " '9mfy21',\n",
              " '9pm',\n",
              " '9to5',\n",
              " '___answering',\n",
              " '___from',\n",
              " '___they',\n",
              " 'a220',\n",
              " 'a320',\n",
              " 'a320neo',\n",
              " 'a91',\n",
              " 'aaa',\n",
              " 'aadhaar',\n",
              " 'aadmi',\n",
              " 'aai',\n",
              " 'aaj',\n",
              " 'aam',\n",
              " 'aap',\n",
              " 'aarti',\n",
              " 'aayog',\n",
              " 'aayushi',\n",
              " 'ab',\n",
              " 'abandon',\n",
              " 'abandoned',\n",
              " 'abbreviations',\n",
              " 'abdel',\n",
              " 'abdul',\n",
              " 'abdulaziz',\n",
              " 'abercrombie',\n",
              " 'abhay',\n",
              " 'abhijit',\n",
              " 'abhishek',\n",
              " 'abides',\n",
              " 'abiding',\n",
              " 'abilities',\n",
              " 'ability',\n",
              " 'able',\n",
              " 'abodes',\n",
              " 'abolish',\n",
              " 'abreast',\n",
              " 'abroad',\n",
              " 'abrogated',\n",
              " 'abrupt',\n",
              " 'abruptly',\n",
              " 'abs',\n",
              " 'absconding',\n",
              " 'absence',\n",
              " 'absolute',\n",
              " 'absolutely',\n",
              " 'absolved',\n",
              " 'absorb',\n",
              " 'absorbed',\n",
              " 'absorption',\n",
              " 'absurd',\n",
              " 'abu',\n",
              " 'abundance',\n",
              " 'abuse',\n",
              " 'abuses',\n",
              " 'abuzz',\n",
              " 'ac',\n",
              " 'academic',\n",
              " 'academy',\n",
              " 'accel',\n",
              " 'accelerate',\n",
              " 'accelerated',\n",
              " 'accelerating',\n",
              " 'acceleration',\n",
              " 'accenture',\n",
              " 'accept',\n",
              " 'acceptable',\n",
              " 'acceptance',\n",
              " 'accepted',\n",
              " 'accepting',\n",
              " 'accepts',\n",
              " 'access',\n",
              " 'accessed',\n",
              " 'accessories',\n",
              " 'accommodate',\n",
              " 'accommodated',\n",
              " 'accommodation',\n",
              " 'accommodations',\n",
              " 'accommodative',\n",
              " 'accomplished',\n",
              " 'accord',\n",
              " 'accordance',\n",
              " 'according',\n",
              " 'accordingly',\n",
              " 'account',\n",
              " 'accountability',\n",
              " 'accountable',\n",
              " 'accounted',\n",
              " 'accounting',\n",
              " 'accounts',\n",
              " 'accrue',\n",
              " 'accumulated',\n",
              " 'accumulating',\n",
              " 'accurate',\n",
              " 'accurately',\n",
              " 'accused',\n",
              " 'accusing',\n",
              " 'aced',\n",
              " 'acela',\n",
              " 'acharya',\n",
              " 'achieve',\n",
              " 'achievement',\n",
              " 'achiever',\n",
              " 'achievers',\n",
              " 'achieving',\n",
              " 'acknowledged',\n",
              " 'acknowledges',\n",
              " 'acma',\n",
              " 'acquaintances',\n",
              " 'acquire',\n",
              " 'acquired',\n",
              " 'acquiring',\n",
              " 'acquisition',\n",
              " 'acquisitions',\n",
              " 'acquisitive',\n",
              " 'acre',\n",
              " 'acronyms',\n",
              " 'act',\n",
              " 'actcentral',\n",
              " 'acted',\n",
              " 'actemra',\n",
              " 'acting',\n",
              " 'action',\n",
              " 'actions',\n",
              " 'activated',\n",
              " 'activation',\n",
              " 'activations',\n",
              " 'active',\n",
              " 'actively',\n",
              " 'activism',\n",
              " 'activist',\n",
              " 'activists',\n",
              " 'activities',\n",
              " 'activity',\n",
              " 'actks',\n",
              " 'actor',\n",
              " 'actors',\n",
              " 'acts',\n",
              " 'actual',\n",
              " 'actually',\n",
              " 'actuators',\n",
              " 'acute',\n",
              " 'ad',\n",
              " 'adalja',\n",
              " 'adani',\n",
              " 'adapt',\n",
              " 'adaptable',\n",
              " 'adapted',\n",
              " 'adapter',\n",
              " 'adas',\n",
              " 'add',\n",
              " 'added',\n",
              " 'addicted',\n",
              " 'adding',\n",
              " 'addition',\n",
              " 'additional',\n",
              " 'additionally',\n",
              " 'additions',\n",
              " 'additives',\n",
              " 'address',\n",
              " 'addressed',\n",
              " 'addresses',\n",
              " 'addressing',\n",
              " 'adds',\n",
              " 'adequacy',\n",
              " 'adequate',\n",
              " 'adequately',\n",
              " 'adgp',\n",
              " 'adham',\n",
              " 'adhanom',\n",
              " 'adhere',\n",
              " 'adherence',\n",
              " 'adherents',\n",
              " 'adhoc',\n",
              " 'aditya',\n",
              " 'adjacent',\n",
              " 'adjoining',\n",
              " 'adjourned',\n",
              " 'adjournment',\n",
              " 'adjournments',\n",
              " 'adjudicate',\n",
              " 'adjudication',\n",
              " 'adjust',\n",
              " 'adjusted',\n",
              " 'adjusting',\n",
              " 'administered',\n",
              " 'administration',\n",
              " 'administrative',\n",
              " 'administrators',\n",
              " 'admins',\n",
              " 'admired',\n",
              " 'admit',\n",
              " 'admits',\n",
              " 'admitted',\n",
              " 'admittedly',\n",
              " 'adobe',\n",
              " 'adopt',\n",
              " 'adopted',\n",
              " 'adopting',\n",
              " 'adoption',\n",
              " 'adp',\n",
              " 'adroit',\n",
              " 'adrop',\n",
              " 'ads',\n",
              " 'adtech',\n",
              " 'advance',\n",
              " 'advanced',\n",
              " 'advancements',\n",
              " 'advancers',\n",
              " 'advancing',\n",
              " 'advantage',\n",
              " 'advantages',\n",
              " 'advent',\n",
              " 'adverse',\n",
              " 'adversely',\n",
              " 'advertise',\n",
              " 'advertised',\n",
              " 'advertisement',\n",
              " 'advertisements',\n",
              " 'advertising',\n",
              " 'advice',\n",
              " 'advisable',\n",
              " 'advise',\n",
              " 'advised',\n",
              " 'adviser',\n",
              " 'advisers',\n",
              " 'advises',\n",
              " 'advising',\n",
              " 'advisor',\n",
              " 'advisories',\n",
              " 'advisors',\n",
              " 'advisorshardika',\n",
              " 'advisory',\n",
              " 'advocate',\n",
              " 'advocated',\n",
              " 'advocates',\n",
              " 'aegis',\n",
              " 'aeris',\n",
              " 'aero',\n",
              " 'aeronautics',\n",
              " 'aerospace',\n",
              " 'aerostructures',\n",
              " 'affairs',\n",
              " 'affect',\n",
              " 'affected',\n",
              " 'affecting',\n",
              " 'affects',\n",
              " 'affidavit',\n",
              " 'affiliate',\n",
              " 'affiliated',\n",
              " 'affiliation',\n",
              " 'affinity',\n",
              " 'affirmative',\n",
              " 'afflicted',\n",
              " 'afford',\n",
              " 'affordable',\n",
              " 'affords',\n",
              " 'afghan',\n",
              " 'afghanistan',\n",
              " 'afp',\n",
              " 'afraid',\n",
              " 'africa',\n",
              " 'african',\n",
              " 'aftermath',\n",
              " 'afternoon',\n",
              " 'afunctional',\n",
              " 'ag',\n",
              " 'agartala',\n",
              " 'agarwal',\n",
              " 'agarwala',\n",
              " 'agarwals',\n",
              " 'age',\n",
              " 'aged',\n",
              " 'agencies',\n",
              " 'agency',\n",
              " 'agent',\n",
              " 'aggarwal',\n",
              " 'aggravated',\n",
              " 'aggregate',\n",
              " 'aggregating',\n",
              " 'aggregation',\n",
              " 'aggregator',\n",
              " 'aggregators',\n",
              " 'aggression',\n",
              " 'aggressive',\n",
              " 'aggressively',\n",
              " 'agility',\n",
              " 'agitation',\n",
              " 'ago',\n",
              " 'agr',\n",
              " 'agra',\n",
              " 'agrawal',\n",
              " 'agree',\n",
              " 'agreed',\n",
              " 'agreeing',\n",
              " 'agreement',\n",
              " 'agreements',\n",
              " 'agrees',\n",
              " 'agri',\n",
              " 'agribusinesses',\n",
              " 'agricole',\n",
              " 'agricultural',\n",
              " 'agriculture',\n",
              " 'agro',\n",
              " 'agrochemical',\n",
              " 'aground',\n",
              " 'ahaskar',\n",
              " 'ahead',\n",
              " 'ahluwalia',\n",
              " 'ahmadabad',\n",
              " 'ahmadi',\n",
              " 'ahmedabad',\n",
              " 'ai',\n",
              " 'aiadmk',\n",
              " 'aiba',\n",
              " 'aibdpa',\n",
              " 'aibea',\n",
              " 'aiboa',\n",
              " 'aicpdf',\n",
              " 'aid',\n",
              " 'aided',\n",
              " 'aids',\n",
              " 'aiesl',\n",
              " 'aiims',\n",
              " 'ailment',\n",
              " 'ailments',\n",
              " 'ails',\n",
              " 'aim',\n",
              " 'aimed',\n",
              " 'aiming',\n",
              " 'aims',\n",
              " 'aion',\n",
              " 'aiova',\n",
              " 'air',\n",
              " 'airbags',\n",
              " 'airbnb',\n",
              " 'airbus',\n",
              " 'airbusa320neo',\n",
              " 'aircel',\n",
              " 'aircraft',\n",
              " 'aircrew',\n",
              " 'airfares',\n",
              " 'airforce',\n",
              " 'airfreighted',\n",
              " 'airing',\n",
              " 'airlift',\n",
              " 'airlifted',\n",
              " 'airlifting',\n",
              " 'airline',\n",
              " 'airliners',\n",
              " 'airlines',\n",
              " 'airnewsalerts',\n",
              " 'airpod',\n",
              " 'airport',\n",
              " 'airports',\n",
              " 'airstrike',\n",
              " 'airtel',\n",
              " 'airtime',\n",
              " 'airwaves',\n",
              " 'airways',\n",
              " 'airy',\n",
              " 'ais',\n",
              " 'aisle',\n",
              " 'ajay',\n",
              " 'ajeet',\n",
              " 'ajgaonkar',\n",
              " 'ajit',\n",
              " 'aka',\n",
              " 'akash',\n",
              " 'akhund',\n",
              " 'akin',\n",
              " 'akshay',\n",
              " 'al',\n",
              " 'alabama',\n",
              " 'alapaparthi',\n",
              " 'alarm',\n",
              " 'alarming',\n",
              " 'alaska',\n",
              " 'albeit',\n",
              " 'albert',\n",
              " 'album',\n",
              " 'alcatel',\n",
              " 'alcohol',\n",
              " 'alert',\n",
              " 'alerted',\n",
              " 'alerts',\n",
              " 'alessandro',\n",
              " 'alexa',\n",
              " 'alexander',\n",
              " 'alexandre',\n",
              " 'algorithm',\n",
              " 'algorithmic',\n",
              " 'ali',\n",
              " 'alia',\n",
              " 'alias',\n",
              " 'alibaba',\n",
              " 'alienated',\n",
              " 'align',\n",
              " 'aligned',\n",
              " 'aligning',\n",
              " 'alignment',\n",
              " 'aligns',\n",
              " 'alike',\n",
              " 'alive',\n",
              " 'alka',\n",
              " 'alla',\n",
              " 'allahabad',\n",
              " 'allay',\n",
              " 'allcargo',\n",
              " 'allegation',\n",
              " 'allegations',\n",
              " 'alleged',\n",
              " 'allegedly',\n",
              " 'allergic',\n",
              " 'alleviate',\n",
              " 'alliance',\n",
              " 'allied',\n",
              " 'allies',\n",
              " 'allocated',\n",
              " 'allocation',\n",
              " 'allocations',\n",
              " 'allotment',\n",
              " 'allow',\n",
              " 'allowance',\n",
              " 'allowances',\n",
              " 'allowed',\n",
              " 'allowing',\n",
              " 'allows',\n",
              " 'alloys',\n",
              " 'ally',\n",
              " 'alongside',\n",
              " 'alpha',\n",
              " 'alphabet',\n",
              " 'alphabetical',\n",
              " 'alpine',\n",
              " 'altbalaji',\n",
              " 'alter',\n",
              " 'altered',\n",
              " 'alteria',\n",
              " 'alternate',\n",
              " 'alternative',\n",
              " 'alternatives',\n",
              " 'altimeters',\n",
              " 'alto',\n",
              " 'altogether',\n",
              " 'aluminium',\n",
              " 'aluminum',\n",
              " ...]"
            ]
          },
          "metadata": {
            "tags": []
          },
          "execution_count": 11
        }
      ]
    },
    {
      "cell_type": "code",
      "metadata": {
        "id": "bBU3PvvgqKvW",
        "colab_type": "code",
        "colab": {
          "base_uri": "https://localhost:8080/",
          "height": 34
        },
        "outputId": "3169df8f-524c-4184-d021-7d6f126c6b2f"
      },
      "source": [
        "len(LDA.components_)"
      ],
      "execution_count": 12,
      "outputs": [
        {
          "output_type": "execute_result",
          "data": {
            "text/plain": [
              "7"
            ]
          },
          "metadata": {
            "tags": []
          },
          "execution_count": 12
        }
      ]
    },
    {
      "cell_type": "code",
      "metadata": {
        "id": "xu5vYog_xeBT",
        "colab_type": "code",
        "colab": {
          "base_uri": "https://localhost:8080/",
          "height": 34
        },
        "outputId": "2f897ae1-6c55-4d5b-c5ae-e926dfb27d25"
      },
      "source": [
        "type(LDA.components_)"
      ],
      "execution_count": 13,
      "outputs": [
        {
          "output_type": "execute_result",
          "data": {
            "text/plain": [
              "numpy.ndarray"
            ]
          },
          "metadata": {
            "tags": []
          },
          "execution_count": 13
        }
      ]
    },
    {
      "cell_type": "code",
      "metadata": {
        "id": "BqH0_9CVxgTc",
        "colab_type": "code",
        "outputId": "8d434445-5126-4c13-eb3e-6e7ba8776d55",
        "colab": {
          "base_uri": "https://localhost:8080/",
          "height": 34
        }
      },
      "source": [
        "LDA.components_.shape"
      ],
      "execution_count": 14,
      "outputs": [
        {
          "output_type": "execute_result",
          "data": {
            "text/plain": [
              "(7, 13263)"
            ]
          },
          "metadata": {
            "tags": []
          },
          "execution_count": 14
        }
      ]
    },
    {
      "cell_type": "code",
      "metadata": {
        "id": "VFkaOgc9xjTN",
        "colab_type": "code",
        "colab": {
          "base_uri": "https://localhost:8080/",
          "height": 238
        },
        "outputId": "fbb1f554-fc6e-4533-fb69-89cb548a68c5"
      },
      "source": [
        "LDA.components_"
      ],
      "execution_count": 15,
      "outputs": [
        {
          "output_type": "execute_result",
          "data": {
            "text/plain": [
              "array([[  1.32089198,  50.20404706,   0.14285714, ...,   1.14269543,\n",
              "          0.14285714,   1.14285701],\n",
              "       [  0.14285716,  13.56238016,   0.14285715, ...,   0.14285715,\n",
              "          0.14285715,   0.14285717],\n",
              "       [  0.14469968,   3.72399026,   0.14285715, ...,   0.14285715,\n",
              "          0.14285715,   0.14285717],\n",
              "       ...,\n",
              "       [  0.14285715,  21.7977219 ,   1.14285713, ...,   0.14285715,\n",
              "          0.14285715,   0.14285716],\n",
              "       [  1.96297972, 107.94213583,   0.14285714, ...,   0.14301884,\n",
              "          0.14309697,   0.14285715],\n",
              "       [  0.14285715,   8.56746024,   0.14285715, ...,   0.14285715,\n",
              "          0.14285715,   0.14285716]])"
            ]
          },
          "metadata": {
            "tags": []
          },
          "execution_count": 15
        }
      ]
    },
    {
      "cell_type": "code",
      "metadata": {
        "id": "B4gCR6BJxosp",
        "colab_type": "code",
        "colab": {}
      },
      "source": [
        "st = LDA.components_[0]"
      ],
      "execution_count": 0,
      "outputs": []
    },
    {
      "cell_type": "code",
      "metadata": {
        "id": "jSaH_6fVxx9Y",
        "colab_type": "code",
        "colab": {
          "base_uri": "https://localhost:8080/",
          "height": 34
        },
        "outputId": "e8c863ab-83b4-4ef1-ecd2-ababfe066673"
      },
      "source": [
        "st.argsort()"
      ],
      "execution_count": 17,
      "outputs": [
        {
          "output_type": "execute_result",
          "data": {
            "text/plain": [
              "array([11904,  4131,  4769, ..., 10432,  6162,  1579])"
            ]
          },
          "metadata": {
            "tags": []
          },
          "execution_count": 17
        }
      ]
    },
    {
      "cell_type": "code",
      "metadata": {
        "id": "9g6Bfh4vx5zB",
        "colab_type": "code",
        "colab": {
          "base_uri": "https://localhost:8080/",
          "height": 51
        },
        "outputId": "01bcbc6c-7aea-4b77-b06b-497ba9142abf"
      },
      "source": [
        "st.argsort()[-10:]"
      ],
      "execution_count": 18,
      "outputs": [
        {
          "output_type": "execute_result",
          "data": {
            "text/plain": [
              "array([ 9680,  1585,  9678, 13190,  3343,  5534,  5384, 10432,  6162,\n",
              "        1579])"
            ]
          },
          "metadata": {
            "tags": []
          },
          "execution_count": 18
        }
      ]
    },
    {
      "cell_type": "code",
      "metadata": {
        "id": "iohLA8JJyUdZ",
        "colab_type": "code",
        "colab": {}
      },
      "source": [
        "tp = st.argsort()[-20:]"
      ],
      "execution_count": 0,
      "outputs": []
    },
    {
      "cell_type": "code",
      "metadata": {
        "id": "WG_r8LSJyoQb",
        "colab_type": "code",
        "colab": {
          "base_uri": "https://localhost:8080/",
          "height": 357
        },
        "outputId": "fd43ac3c-5337-4a69-bf48-421347353769"
      },
      "source": [
        "for i in tp :\n",
        "  print(cv.get_feature_names()[i])  "
      ],
      "execution_count": 20,
      "outputs": [
        {
          "output_type": "stream",
          "text": [
            "indian\n",
            "world\n",
            "reserve\n",
            "financial\n",
            "impact\n",
            "coronavirus\n",
            "economy\n",
            "economic\n",
            "markets\n",
            "central\n",
            "rates\n",
            "banks\n",
            "rate\n",
            "year\n",
            "cut\n",
            "growth\n",
            "global\n",
            "said\n",
            "india\n",
            "bank\n"
          ],
          "name": "stdout"
        }
      ]
    },
    {
      "cell_type": "markdown",
      "metadata": {
        "id": "XnRdnZ4768nK",
        "colab_type": "text"
      },
      "source": [
        "#EXTRACT THE TOP 15 HIGH PROBABILTY WORDS FROM EACH TOPICS"
      ]
    },
    {
      "cell_type": "code",
      "metadata": {
        "id": "U4l7oSKjyzvf",
        "colab_type": "code",
        "colab": {
          "base_uri": "https://localhost:8080/",
          "height": 751
        },
        "outputId": "567354d4-3c64-43b4-f727-ae416b65d349"
      },
      "source": [
        "for i,topic in enumerate(LDA.components_) :\n",
        "  print(f\"THE TOP 15 WORDS FOR TOPIC #{i}\")\n",
        "  print([cv.get_feature_names()[index] for index in topic.argsort()[-15:]])\n",
        "  print('\\n')\n",
        "  print('\\n')"
      ],
      "execution_count": 21,
      "outputs": [
        {
          "output_type": "stream",
          "text": [
            "THE TOP 15 WORDS FOR TOPIC #0\n",
            "['coronavirus', 'economy', 'economic', 'markets', 'central', 'rates', 'banks', 'rate', 'year', 'cut', 'growth', 'global', 'said', 'india', 'bank']\n",
            "\n",
            "\n",
            "\n",
            "\n",
            "THE TOP 15 WORDS FOR TOPIC #1\n",
            "['budget', 'energy', 'act', 'litre', 'power', 'year', 'time', 'government', 'companies', 'petrol', 'new', 'diesel', 'state', 'india', 'said']\n",
            "\n",
            "\n",
            "\n",
            "\n",
            "THE TOP 15 WORDS FOR TOPIC #2\n",
            "['cards', 'epfo', 'engines', 'rate', 'demand', 'aviation', 'delhi', 'pension', 'indian', 'sbi', 'crore', 'new', 'year', 'india', 'said']\n",
            "\n",
            "\n",
            "\n",
            "\n",
            "THE TOP 15 WORDS FOR TOPIC #3\n",
            "['speech', 'cci', 'virtual', 'google', 'services', 'flipkart', 'like', 'media', 'delhi', 'court', 'amazon', 'new', 'india', 'company', 'said']\n",
            "\n",
            "\n",
            "\n",
            "\n",
            "THE TOP 15 WORDS FOR TOPIC #4\n",
            "['capital', 'years', 'com', 'women', 'twitter', 'partner', '2020', 'director', 'crore', 'march', 'managing', 'livemint', 'said', 'india', 'says']\n",
            "\n",
            "\n",
            "\n",
            "\n",
            "THE TOP 15 WORDS FOR TOPIC #5\n",
            "['positive', 'countries', 'minister', 'delhi', 'government', 'new', 'covid', '19', 'cases', 'china', 'virus', 'health', 'people', 'coronavirus', 'said']\n",
            "\n",
            "\n",
            "\n",
            "\n",
            "THE TOP 15 WORDS FOR TOPIC #6\n",
            "['rate', 'trains', 'delhi', 'government', 'railways', 'financial', 'indian', 'time', 'new', 'private', 'companies', 'company', 'tax', 'india', 'said']\n",
            "\n",
            "\n",
            "\n",
            "\n"
          ],
          "name": "stdout"
        }
      ]
    },
    {
      "cell_type": "markdown",
      "metadata": {
        "id": "f4MngEB_7GtD",
        "colab_type": "text"
      },
      "source": [
        "#FINALLY ASSIGN THE HIGHEST TOPIC PROBABILTY TO EACH DOCUMENT"
      ]
    },
    {
      "cell_type": "code",
      "metadata": {
        "id": "UcQPvfsmzatR",
        "colab_type": "code",
        "colab": {}
      },
      "source": [
        "topic_results = LDA.transform(dtm)"
      ],
      "execution_count": 0,
      "outputs": []
    },
    {
      "cell_type": "code",
      "metadata": {
        "id": "_FL22ER33bAa",
        "colab_type": "code",
        "outputId": "6084c23b-5e62-4eee-c062-2f217090bc3b",
        "colab": {
          "base_uri": "https://localhost:8080/",
          "height": 34
        }
      },
      "source": [
        "topic_results[0].argmax()"
      ],
      "execution_count": 23,
      "outputs": [
        {
          "output_type": "execute_result",
          "data": {
            "text/plain": [
              "0"
            ]
          },
          "metadata": {
            "tags": []
          },
          "execution_count": 23
        }
      ]
    },
    {
      "cell_type": "code",
      "metadata": {
        "id": "G_DlNion4jp2",
        "colab_type": "code",
        "colab": {}
      },
      "source": [
        "data['topic'] = topic_results.argmax(axis=1)"
      ],
      "execution_count": 0,
      "outputs": []
    },
    {
      "cell_type": "code",
      "metadata": {
        "id": "N9-aGAld46mR",
        "colab_type": "code",
        "colab": {}
      },
      "source": [
        "data"
      ],
      "execution_count": 0,
      "outputs": []
    }
  ]
}